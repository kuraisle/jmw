{
  "cells": [
    {
      "cell_type": "raw",
      "metadata": {},
      "source": [
        "---\n",
        "title: \"Predicting drug resistance from gene expression\"\n",
        "format:\n",
        "  html:\n",
        "    code-fold: true\n",
        "    code-summary: \"Show the code\"\n",
        "description: As practice for using gradient boosted trees, I used an open dataset to use gene expression in tumours to predict resistance to chemotherapy drugs\n",
        "date-format: iso\n",
        "date: today\n",
        "categories:\n",
        "  - data analysis\n",
        "draft: true\n",
        "execute:\n",
        "    freeze: true\n",
        "---"
      ],
      "id": "8fdb7d41"
    },
    {
      "cell_type": "code",
      "metadata": {},
      "source": [
        "import pandas as pd\n",
        "import numpy as np\n",
        "import matplotlib.pyplot as plt\n",
        "import lightgbm\n",
        "import shap\n",
        "from sklearn.model_selection import train_test_split\n",
        "from sklearn.metrics import mean_absolute_error\n",
        "from sklearn.linear_model import LinearRegression\n",
        "from re import sub"
      ],
      "id": "8a0f2217",
      "execution_count": null,
      "outputs": []
    },
    {
      "cell_type": "markdown",
      "metadata": {},
      "source": [
        "The [Genomics of Drug Sensitivity in Cancer](https://www.cancerrxgene.org/) dataset is a massive project testing the sensitivity of tumour cell lines to different drugs.\n",
        "\n",
        "- Expression to IC50\n",
        "- Expression IC50 adding weights\n",
        "- Expression IC50 transporters\n",
        "- Expression IC50 transporters optuna params\n",
        "- Filter IC50 by count\n",
        "- Explore GDSC1\n",
        "- Cluster gene density\n",
        "- Expression IC50 unclustered\n"
      ],
      "id": "3d1c9696"
    },
    {
      "cell_type": "code",
      "metadata": {},
      "source": [
        "# It seems that previous releases get moved, so I'm just downloading it locally instead of getting it via ftp\n",
        "#ic50_data = pd.read_excel(\"ftp://ftp.sanger.ac.uk/pub/project/cancerrxgene/releases/current_release/GDSC1_fitted_dose_response_25Feb20.xlsx\")\n",
        "ic50_data = pd.read_excel(\"data/GDSC1_fitted_dose_response_27Oct23.xlsx\")\n",
        "ic50_data.drop(columns = ['NLME_RESULT_ID', 'NLME_CURVE_ID', 'SANGER_MODEL_ID', 'TCGA_DESC', 'DRUG_ID', 'PUTATIVE_TARGET', 'PATHWAY_NAME', 'COMPANY_ID', 'WEBRELEASE', 'MIN_CONC', 'MAX_CONC', 'AUC', 'RMSE'], inplace=True)\n",
        "ic50_data.head()"
      ],
      "id": "f4ffe866",
      "execution_count": null,
      "outputs": []
    },
    {
      "cell_type": "code",
      "metadata": {},
      "source": [
        "# I did have it downloading directly from the source, but I've had failures retrieving it and the IC50 data, so I'm loading it locally instead\n",
        "#rma_expr = pd.read_csv(\"https://www.cancerrxgene.org/gdsc1000/GDSC1000_WebResources//Data/preprocessed/Cell_line_RMA_proc_basalExp.txt.zip\", sep = \"\\t\")\n",
        "rma_expr = pd.read_csv(\"data/Cell_line_RMA_proc_basalExp.txt\", sep = \"\\t\")\n",
        "rma_expr = rma_expr.drop('GENE_title', axis = 1)\n",
        "rma_expr= rma_expr.set_index('GENE_SYMBOLS')\n",
        "rma_expr.head()"
      ],
      "id": "6965c5b7",
      "execution_count": null,
      "outputs": []
    },
    {
      "cell_type": "code",
      "metadata": {},
      "source": [
        "rma_cells = [int(x.split('.')[1]) for x in rma_expr.columns]\n",
        "cell_id_matches = []\n",
        "\n",
        "for cell_id in rma_cells:\n",
        "    if cell_id in ic50_data['COSMIC_ID'].values:\n",
        "        cell_id_matches.append(cell_id)\n",
        "        \n",
        "print(f'Number of matches: {len(cell_id_matches)} of {len(rma_cells)}')"
      ],
      "id": "7a39088f",
      "execution_count": null,
      "outputs": []
    },
    {
      "cell_type": "code",
      "metadata": {},
      "source": [
        "rma_matches = np.isin(np.array(rma_cells), np.array(cell_id_matches))\n",
        "\n",
        "rma_expr_matched = rma_expr.iloc[:,rma_matches]\n",
        "rma_expr_matched.shape"
      ],
      "id": "1b2b84e5",
      "execution_count": null,
      "outputs": []
    },
    {
      "cell_type": "code",
      "metadata": {},
      "source": [
        "ic50_matched = ic50_data.loc[ic50_data['COSMIC_ID'].isin(cell_id_matches)]\n",
        "ic50_matched"
      ],
      "id": "6b94d910",
      "execution_count": null,
      "outputs": []
    },
    {
      "cell_type": "code",
      "metadata": {},
      "source": [
        "len(ic50_matched['DRUG_NAME'].unique())"
      ],
      "id": "75072993",
      "execution_count": null,
      "outputs": []
    },
    {
      "cell_type": "code",
      "metadata": {},
      "source": [
        "rma_expr_matched = rma_expr_matched.T\n",
        "rma_expr_matched['COSMIC_ID'] = [int(x.split('.')[1]) for x in rma_expr_matched.index]\n",
        "rma_expr_matched = rma_expr_matched.loc[:, rma_expr_matched.columns.notna()]\n",
        "rma_expr_matched.head()"
      ],
      "id": "0180965c",
      "execution_count": null,
      "outputs": []
    },
    {
      "cell_type": "code",
      "metadata": {},
      "source": [
        "def model_drug(drug, verbose = False, figure = False):\n",
        "    ic50_sub = ic50_matched.loc[ic50_matched['DRUG_NAME'] == drug][['COSMIC_ID',\n",
        "                                                                    'LN_IC50',\n",
        "                                                                    'Z_SCORE']]\n",
        "    df = pd.merge(ic50_sub, rma_expr_matched).set_index('COSMIC_ID')\n",
        "    \n",
        "    X = df.drop(['LN_IC50', 'Z_SCORE'], axis = 1)\n",
        "    y = df['LN_IC50']\n",
        "    X_train, X_test, y_train, y_test = train_test_split(X, y, test_size = 0.2)\n",
        "    \n",
        "    train_data = lightgbm.Dataset(X_train, label = y_train)\n",
        "    test_data = lightgbm.Dataset(X_test, label = y_test, reference = train_data)\n",
        "    \n",
        "    param = {'boosting_type': 'goss',\n",
        "             'n_estimators': 500,\n",
        "             'num_iterations': 500,\n",
        "             'learning_rate': 0.05,\n",
        "             'max_bin': 1024,\n",
        "             'metric': 'l2',\n",
        "             'objective': 'regression',\n",
        "             'num_leaves': 50,\n",
        "             'verbose': -1}\n",
        "    \n",
        "    bst = lightgbm.train(param,\n",
        "                         train_data,\n",
        "                         callbacks=[lightgbm.early_stopping(stopping_rounds=30, verbose = False)],\n",
        "                         valid_sets = test_data)\n",
        "    \n",
        "    fit_predict = bst.predict(X_test)\n",
        "    if verbose:\n",
        "        mae = mean_absolute_error(fit_predict, y_test)\n",
        "        test_range = max(y_test)-min(y_test)\n",
        "        print(f'{drug}:\\nMAE = {mae:.3} (range {test_range:.3})')\n",
        "    if figure:\n",
        "        fig, ax = plt.subplots(figsize = (16,8), ncols = 2)\n",
        "        ax[0].scatter(y_test, fit_predict, color = 'black', alpha = 0.5)\n",
        "        ax[0].ylabel = 'Predicted ln(IC50)'\n",
        "        ax[0].xlabel = 'True ln(IC50)'\n",
        "        ax[0].set_title(drug)\n",
        "        lightgbm.plot_importance(bst, max_num_features=20, ax = ax[1])\n",
        "        if figure == 'save':\n",
        "            filename = sub('[^A-Za-z0-9-]+', '', drug)\n",
        "            plt.savefig(f'{filename}.png')\n",
        "    return bst, fit_predict, y_test\n",
        "\n",
        "\n",
        "#all_models = dict()\n",
        "\n",
        "#for drug in ic50_matched['DRUG_NAME'].unique():\n",
        "#    all_models[drug] = model_drug(drug)\n",
        "\n",
        "example_drugs = ['AZ628', 'WZ3105', 'NPK76-II-72-1', 'Tubastatin A', 'PIK-93', 'Venotoclax', 'Methotrexate', 'Refametinib', 'AZD7762', 'Tanespimycin', 'Nutlin-3a (-)', 'Trametinib', 'Dabrafenib','SN-38', 'Erlotinib']\n",
        "\n",
        "example_models = dict()\n",
        "\n",
        "for drug in example_drugs:\n",
        "  example_models[drug] = model_drug(drug)"
      ],
      "id": "bd7b475c",
      "execution_count": null,
      "outputs": []
    },
    {
      "cell_type": "code",
      "metadata": {},
      "source": [
        "def r_squared(predicted, true):\n",
        "    mean = np.mean(true)\n",
        "    true_diff_sq = np.square(true - mean)\n",
        "    pred_diff_sq = np.square(true - predicted)\n",
        "    return 1-(np.sum(pred_diff_sq)/np.sum(true_diff_sq))\n",
        "\n",
        "models_r_sq = dict([(x, r_squared(y[1], y[2])) for x, y in example_models.items()])\n",
        "\n",
        "[(x,y) for x,y in models_r_sq.items() if y > 0.4]"
      ],
      "id": "29a865e2",
      "execution_count": null,
      "outputs": []
    },
    {
      "cell_type": "code",
      "metadata": {},
      "source": [
        "def plot_test(drug):\n",
        "    bst, fit_predict, y_test = example_models[drug]\n",
        "    fig, ax = plt.subplots(figsize = (16,8), ncols = 2)\n",
        "    ax[0].scatter(y_test, fit_predict, color = 'black', alpha = 0.5)\n",
        "    ax[0].ylabel = 'Predicted ln(IC50)'\n",
        "    ax[0].xlabel = 'True ln(IC50)'\n",
        "    ax[0].set_title(drug)\n",
        "    lightgbm.plot_importance(bst, max_num_features=20, ax = ax[1])"
      ],
      "id": "1bf34a73",
      "execution_count": null,
      "outputs": []
    },
    {
      "cell_type": "code",
      "metadata": {},
      "source": [
        "plot_test('AZ628')"
      ],
      "id": "68aa7dfd",
      "execution_count": null,
      "outputs": []
    },
    {
      "cell_type": "code",
      "metadata": {},
      "source": [
        "plot_test('Erlotinib')"
      ],
      "id": "5a59aad2",
      "execution_count": null,
      "outputs": []
    },
    {
      "cell_type": "code",
      "metadata": {},
      "source": [
        "shap.initjs()"
      ],
      "id": "5c6aead9",
      "execution_count": null,
      "outputs": []
    },
    {
      "cell_type": "code",
      "metadata": {},
      "source": [
        "def prep_data(drug):\n",
        "    ic50_sub = ic50_matched.loc[ic50_matched['DRUG_NAME'] == drug][['COSMIC_ID',\n",
        "                                                                    'LN_IC50',\n",
        "                                                                    'Z_SCORE']]\n",
        "    df = pd.merge(ic50_sub, rma_expr_matched).set_index('COSMIC_ID')\n",
        "    \n",
        "    return df.drop(['LN_IC50', 'Z_SCORE'], axis = 1)\n",
        "\n",
        "def plot_shap(drug):\n",
        "    model = all_models[drug][0]\n",
        "    X = prep_data(drug)\n",
        "    explainer = shap.TreeExplainer(model)\n",
        "    shap_values = explainer.shap_values(X)\n",
        "    shap.summary_plot(shap_values, X, title = drug)\n",
        "\n",
        "plot_shap('AZ628')"
      ],
      "id": "67a28839",
      "execution_count": null,
      "outputs": []
    }
  ],
  "metadata": {
    "kernelspec": {
      "name": "python3",
      "language": "python",
      "display_name": "Python 3 (ipykernel)"
    }
  },
  "nbformat": 4,
  "nbformat_minor": 5
}