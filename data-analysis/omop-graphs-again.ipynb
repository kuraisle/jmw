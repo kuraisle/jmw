{
 "cells": [
  {
   "cell_type": "markdown",
   "id": "1fc2b7e4-e490-4de2-8773-c94935124918",
   "metadata": {},
   "source": [
    "---\n",
    "title: More OMOP graphs\n",
    "format: html\n",
    "description: Describing OMOP through graphs of its relationships\n",
    "date-format: iso\n",
    "date: 2025-03-25\n",
    "categories:\n",
    "  - work projects\n",
    "---"
   ]
  },
  {
   "cell_type": "markdown",
   "id": "82d3ad07-52de-4e93-a1e4-39fb236b9d66",
   "metadata": {},
   "source": [
    "## Introduction\n",
    "I've previously looked at the OMOP vocabularies as [graphs](omop-graph-generator.qmd).\n",
    "\n",
    "## Relationships"
   ]
  },
  {
   "cell_type": "code",
   "execution_count": 7,
   "id": "9b879a58-8a7f-40c1-abcb-17db7070cf21",
   "metadata": {},
   "outputs": [
    {
     "ename": "ModuleNotFoundError",
     "evalue": "No module named 'graph_tools.graph_tool'",
     "output_type": "error",
     "traceback": [
      "\u001b[31m---------------------------------------------------------------------------\u001b[39m",
      "\u001b[31mModuleNotFoundError\u001b[39m                       Traceback (most recent call last)",
      "\u001b[36mCell\u001b[39m\u001b[36m \u001b[39m\u001b[32mIn[7]\u001b[39m\u001b[32m, line 3\u001b[39m\n\u001b[32m      1\u001b[39m \u001b[38;5;28;01mfrom\u001b[39;00m\u001b[38;5;250m \u001b[39m\u001b[34;01mos\u001b[39;00m\u001b[38;5;250m \u001b[39m\u001b[38;5;28;01mimport\u001b[39;00m environ\n\u001b[32m      2\u001b[39m \u001b[38;5;28;01mimport\u001b[39;00m\u001b[38;5;250m \u001b[39m\u001b[34;01mduckdb\u001b[39;00m\n\u001b[32m----> \u001b[39m\u001b[32m3\u001b[39m \u001b[38;5;28;01mfrom\u001b[39;00m\u001b[38;5;250m \u001b[39m\u001b[34;01mgraph_tools\u001b[39;00m\u001b[34;01m.\u001b[39;00m\u001b[34;01mgraph_tool\u001b[39;00m\u001b[38;5;250m \u001b[39m\u001b[38;5;28;01mimport\u001b[39;00m Graph\n",
      "\u001b[31mModuleNotFoundError\u001b[39m: No module named 'graph_tools.graph_tool'"
     ]
    }
   ],
   "source": [
    "from os import environ\n",
    "import duckdb"
   ]
  },
  {
   "cell_type": "code",
   "execution_count": 2,
   "id": "f88a708e-6ffe-4059-a976-ef43da35ccc1",
   "metadata": {},
   "outputs": [],
   "source": [
    "duckdb.sql(\n",
    "  \"\"\"\n",
    "  ATTACH 'dbname=omop user=postgres password=password host=localhost port=5432' AS omop (TYPE postgres, READ_ONLY, SCHEMA 'cdm');\n",
    "  \"\"\"\n",
    ")"
   ]
  },
  {
   "cell_type": "code",
   "execution_count": 3,
   "id": "802c686d-9f93-4953-89ee-a6ccde18d4ef",
   "metadata": {},
   "outputs": [
    {
     "data": {
      "application/vnd.jupyter.widget-view+json": {
       "model_id": "ce405c0efd5b4b7e8fd42289f3ad24f4",
       "version_major": 2,
       "version_minor": 0
      },
      "text/plain": [
       "FloatProgress(value=0.0, layout=Layout(width='auto'), style=ProgressStyle(bar_color='black'))"
      ]
     },
     "metadata": {},
     "output_type": "display_data"
    },
    {
     "data": {
      "text/plain": [
       "┌──────────────────────┬─────────┐\n",
       "│   relationship_id    │  count  │\n",
       "│       varchar        │  int64  │\n",
       "├──────────────────────┼─────────┤\n",
       "│ Maps to              │ 7158761 │\n",
       "│ Mapped from          │ 7158761 │\n",
       "│ Subsumes             │ 3346209 │\n",
       "│ Is a                 │ 3346209 │\n",
       "│ Marketed form of     │ 2000405 │\n",
       "│ Has marketed form    │ 2000405 │\n",
       "│ RxNorm has dose form │ 1796343 │\n",
       "│ RxNorm dose form of  │ 1796343 │\n",
       "│ Brand name of        │ 1473879 │\n",
       "│ Has brand name       │ 1473879 │\n",
       "│       ·              │       · │\n",
       "│       ·              │       · │\n",
       "│       ·              │       · │\n",
       "│ Hist ped indic for   │       4 │\n",
       "│ Surf character of    │       4 │\n",
       "│ Has pept-drg cjg Rx  │       1 │\n",
       "│ After                │       1 │\n",
       "│ Before               │       1 │\n",
       "│ Pept-drug cjgt of    │       1 │\n",
       "│ Rx PDC of            │       1 │\n",
       "│ Has PDC Rx           │       1 │\n",
       "│ Has pept-drug cjgt   │       1 │\n",
       "│ Rx pept-drg cjg of   │       1 │\n",
       "├──────────────────────┴─────────┤\n",
       "│ 538 rows (20 shown)  2 columns │\n",
       "└────────────────────────────────┘"
      ]
     },
     "execution_count": 3,
     "metadata": {},
     "output_type": "execute_result"
    }
   ],
   "source": [
    "duckdb.sql(\n",
    "  \"\"\"\n",
    "  SELECT relationship_id, COUNT(concept_id_1) as count\n",
    "  FROM omop.concept_relationship\n",
    "  GROUP BY relationship_id\n",
    "  ORDER BY count DESC;\n",
    "\"\"\")"
   ]
  },
  {
   "cell_type": "code",
   "execution_count": 4,
   "id": "9b882af3-4f88-4e80-bb2e-fd39e79e579f",
   "metadata": {},
   "outputs": [],
   "source": [
    "rel_forward = [\n",
    "    \"Maps to\",\n",
    "    \"Is a\",\n",
    "    \"Marketed form of\",\n",
    "    \"RxNorm dose form of\",\n",
    "    \"Has brand name\",\n",
    "    \"Tradename of\",\n",
    "    \"Has status\",\n",
    "    \"Module of\",\n",
    "    \"Has supplier\",\n",
    "    \"Box of\",\n",
    "    \"Consists of\",\n",
    "]"
   ]
  },
  {
   "cell_type": "code",
   "execution_count": 5,
   "id": "d821a8a6-ce86-464a-b441-af884dcf048d",
   "metadata": {},
   "outputs": [
    {
     "data": {
      "text/plain": [
       "┌──────────────┬──────────────┐\n",
       "│ concept_id_1 │ concept_id_2 │\n",
       "│    int32     │    int32     │\n",
       "├──────────────┼──────────────┤\n",
       "│          262 │          262 │\n",
       "│          263 │          263 │\n",
       "│          264 │          264 │\n",
       "│          265 │          265 │\n",
       "│          266 │          266 │\n",
       "│          267 │          267 │\n",
       "│          268 │          268 │\n",
       "│          269 │          269 │\n",
       "│          270 │          270 │\n",
       "│          271 │          271 │\n",
       "│           ·  │           ·  │\n",
       "│           ·  │           ·  │\n",
       "│           ·  │           ·  │\n",
       "│        11870 │      1572804 │\n",
       "│        11870 │      4124868 │\n",
       "│        11871 │      1572810 │\n",
       "│        11871 │       442789 │\n",
       "│        11871 │     45554172 │\n",
       "│        11871 │      1572804 │\n",
       "│        11872 │      1572810 │\n",
       "│        11872 │       442789 │\n",
       "│        11872 │     45554172 │\n",
       "│        11872 │      1572804 │\n",
       "├──────────────┴──────────────┤\n",
       "│ ? rows            2 columns │\n",
       "└─────────────────────────────┘"
      ]
     },
     "execution_count": 5,
     "metadata": {},
     "output_type": "execute_result"
    }
   ],
   "source": [
    "duckdb.sql(\n",
    "    f\"\"\"\n",
    "    SELECT concept_id_1, concept_id_2\n",
    "    FROM omop.concept_relationship\n",
    "    WHERE relationship_id in {rel_forward}\n",
    "    \"\"\"\n",
    ")"
   ]
  },
  {
   "cell_type": "code",
   "execution_count": null,
   "id": "08b0d583-bead-4ab7-9a64-660adab4ea6f",
   "metadata": {},
   "outputs": [],
   "source": []
  }
 ],
 "metadata": {
  "kernelspec": {
   "display_name": "Python 3 (ipykernel)",
   "language": "python",
   "name": "python3"
  },
  "language_info": {
   "codemirror_mode": {
    "name": "ipython",
    "version": 3
   },
   "file_extension": ".py",
   "mimetype": "text/x-python",
   "name": "python",
   "nbconvert_exporter": "python",
   "pygments_lexer": "ipython3",
   "version": "3.12.7"
  }
 },
 "nbformat": 4,
 "nbformat_minor": 5
}
